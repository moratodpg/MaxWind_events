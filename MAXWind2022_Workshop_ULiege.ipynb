{
 "cells": [
  {
   "cell_type": "markdown",
   "id": "f4f4d3a1",
   "metadata": {},
   "source": [
    "## Importing modules/libraries"
   ]
  },
  {
   "cell_type": "code",
   "execution_count": null,
   "id": "d6f3bf52",
   "metadata": {
    "ExecuteTime": {
     "end_time": "2022-06-22T07:50:48.243647Z",
     "start_time": "2022-06-22T07:50:47.425037Z"
    }
   },
   "outputs": [],
   "source": [
    "import numpy as np\n",
    "import pandas as pd \n",
    "import matplotlib.pyplot as plt \n",
    "\n",
    "from scipy.stats import norm \n",
    "from scipy.special import gamma \n",
    "\n",
    "# for interactive plots\n",
    "%matplotlib notebook"
   ]
  },
  {
   "cell_type": "markdown",
   "id": "9d9bb418",
   "metadata": {},
   "source": [
    "# Structural Reliability Workshop 2022\n",
    "\n",
    "University of Liège, Belgium.\n",
    "\n",
    "Moderators: Felipe Giro, Jose Mishael, Pablo G. Morato."
   ]
  },
  {
   "cell_type": "markdown",
   "id": "5fd0cc23",
   "metadata": {},
   "source": [
    "## Outline \n",
    "- Monte carlo overview (10 mins).\n",
    "- Fatigue damage estimation overview (10 mins).\n",
    "- Applied exercise (20 mins).\n",
    "- Q&A (5 mins)."
   ]
  },
  {
   "cell_type": "markdown",
   "id": "c5e443d7",
   "metadata": {
    "ExecuteTime": {
     "end_time": "2022-06-13T10:15:02.377156Z",
     "start_time": "2022-06-13T10:15:02.363080Z"
    }
   },
   "source": [
    "# Monte Carlo (sampling) method\n",
    "\n",
    "**Objective:** Compute the exceeding probability of an event defined as a function of a random variable $X$. Then compare your result with the analytical solution."
   ]
  },
  {
   "cell_type": "code",
   "execution_count": null,
   "id": "f5bde8e7",
   "metadata": {
    "ExecuteTime": {
     "end_time": "2022-06-22T07:50:48.258536Z",
     "start_time": "2022-06-22T07:50:48.244614Z"
    }
   },
   "outputs": [],
   "source": [
    "# random variable described by a Gaussian distribution with parameters:\n",
    "mean, std = 4, 1.2\n",
    "\n",
    "# exceeding probability defined based on the following threshold:\n",
    "threshold = 5"
   ]
  },
  {
   "cell_type": "code",
   "execution_count": null,
   "id": "d1026046",
   "metadata": {
    "ExecuteTime": {
     "end_time": "2022-06-22T07:50:48.274523Z",
     "start_time": "2022-06-22T07:50:48.259533Z"
    }
   },
   "outputs": [],
   "source": [
    "# analytical solution:\n",
    "Analytical_sol = norm(mean, std).sf(threshold)\n",
    "\n",
    "print(\"Analytical solution: the exceeding probability equals {:.4f}\".format(Analytical_sol))"
   ]
  },
  {
   "cell_type": "code",
   "execution_count": null,
   "id": "9d4d8655",
   "metadata": {
    "ExecuteTime": {
     "end_time": "2022-06-22T07:50:48.306466Z",
     "start_time": "2022-06-22T07:50:48.276519Z"
    }
   },
   "outputs": [],
   "source": [
    "# Monte Carlo (sampling) integration\n",
    "\n",
    "number_samples = int(1e6)\n",
    "\n",
    "# samples generation\n",
    "samples = np.random.normal(mean, std, size=number_samples)\n",
    "\n",
    "# counting all samples above the predefined threshold\n",
    "n_samples_in = (samples > threshold).sum()\n",
    "\n",
    "MonteCarlo_solution = n_samples_in/number_samples \n",
    "\n",
    "print(\"Monte Carlo solution: the exceeding probability equals {:.4f}\".format(MonteCarlo_solution))"
   ]
  },
  {
   "cell_type": "code",
   "execution_count": null,
   "id": "8dabb92c",
   "metadata": {
    "ExecuteTime": {
     "end_time": "2022-06-22T07:50:48.385309Z",
     "start_time": "2022-06-22T07:50:48.308433Z"
    }
   },
   "outputs": [],
   "source": [
    "# for plotting purposes\n",
    "x_axis = np.linspace(-1, 9)\n",
    "fig, ax = plt.subplots()\n",
    "ax.axvline(threshold, color=\"m\", label=\"threshold\", ls=\"--\")\n",
    "ax.plot(x_axis, norm(mean, std).pdf(x_axis), lw=4, alpha=.8, label='Analytical')\n",
    "ax.hist(samples, bins=50, density=True, color=\"green\", alpha=.5, label=\"Sampling (Monte Carlo)\")\n",
    "ax.set_xlabel('x')\n",
    "ax.set_ylabel('pdf')\n",
    "ax.legend()\n",
    "ax.axvspan(threshold, 9, color=\"grey\", alpha=.25)\n",
    "ax.set_xlim((-1, 9))\n",
    "plt.show()"
   ]
  },
  {
   "cell_type": "markdown",
   "id": "f9f00a06",
   "metadata": {},
   "source": [
    "# Why Monte Carlo sampling is useful?\n",
    "\n",
    "- Intractable integration in most practical cases.\n",
    "- Curse of dimensionality: when treating more than 5-6 random variables.\n",
    "\n",
    "Let's consider the previous example, yet this time, the exceeding probability corresponds to an event described by a non-linear function: $f(x)=1/3\\cdot x^{2}$."
   ]
  },
  {
   "cell_type": "code",
   "execution_count": null,
   "id": "0f68779b",
   "metadata": {
    "ExecuteTime": {
     "end_time": "2022-06-22T07:50:48.400457Z",
     "start_time": "2022-06-22T07:50:48.386308Z"
    }
   },
   "outputs": [],
   "source": [
    "f = lambda x : 1/3*x**2\n",
    "\n",
    "samples1 = f(samples)"
   ]
  },
  {
   "cell_type": "code",
   "execution_count": null,
   "id": "38b540f8",
   "metadata": {
    "ExecuteTime": {
     "end_time": "2022-06-22T07:50:48.415679Z",
     "start_time": "2022-06-22T07:50:48.400457Z"
    }
   },
   "outputs": [],
   "source": [
    "# Calculate pf based on the predefined threshold\n",
    "pf_x0 = MonteCarlo_solution # already computed\n",
    "pf_x1 = (samples1 > threshold).sum()/number_samples"
   ]
  },
  {
   "cell_type": "code",
   "execution_count": null,
   "id": "ab1b798e",
   "metadata": {
    "ExecuteTime": {
     "end_time": "2022-06-22T07:50:48.542340Z",
     "start_time": "2022-06-22T07:50:48.416672Z"
    }
   },
   "outputs": [],
   "source": [
    "# for plotting purposes\n",
    "fig, ax = plt.subplots()\n",
    "\n",
    "ax.hist(samples , bins=100, alpha=.6, density=True, label=\"$x_0, Pr[x>{}]={:.3f}$\".format(threshold, pf_x0))\n",
    "ax.hist(samples1, bins=100, alpha=.6, density=True, label=\"$x_1=f(x_0), Pr[x>{}]={:.3f}$\".format(threshold, pf_x1))\n",
    "ax.legend()\n",
    "ax.set_xlim((-1,15))\n",
    "ax.set_xlabel('x')\n",
    "ax.set_ylabel('Probability mass function (pmf)')\n",
    "plt.show()"
   ]
  },
  {
   "cell_type": "markdown",
   "id": "585c8548",
   "metadata": {},
   "source": [
    "# Exercise: fatigue damage estimation\n",
    "\n",
    "Compute the failure probability of a structural element via Miner's rule.\n",
    "\n",
    "#### Damage calculation \n",
    "(Equation 5.1.3, DNVGL-RP-C203)\n",
    "\n",
    "$D=\\frac{v_0 T_d}{a}q^m\\Gamma(1+\\frac{m}{h})$    \n",
    "\n",
    "#### Limit state function\n",
    "\n",
    "$g = \\Delta - D $ \n",
    "\n",
    "#### Random variables\n",
    "\n",
    "| Variable | Distribution | Description |\n",
    "| --- | --- | --- |\n",
    "| $a$ | lognormal | intercept of the design S-N curve with the log N axis |\n",
    "| $q$ | normal | Weibull stress range scale distribution parameter |\n",
    "| $\\Delta$ |lognormal | inital damage state |"
   ]
  },
  {
   "cell_type": "code",
   "execution_count": null,
   "id": "ed0bb820",
   "metadata": {
    "ExecuteTime": {
     "end_time": "2022-06-22T07:50:48.621746Z",
     "start_time": "2022-06-22T07:50:48.544303Z"
    }
   },
   "outputs": [],
   "source": [
    "# number of samples\n",
    "n_samples = int(1e6)\n",
    "\n",
    "# parameters (constant)\n",
    "v0 = 5049216 # cycles\n",
    "m = 3 # negative inverse slope of the S-N curve\n",
    "h = 0.8 # shape parameters for the Weibull stress range\n",
    "\n",
    "# parameters (random variables)\n",
    "loga = 11.687\n",
    "loga_std = 0.2\n",
    "loga_mean = loga + 2*loga_std\n",
    "q_mean = 4.59\n",
    "q_std = 0.25*q_mean\n",
    "Delta_mean = 0 # in numpy, it use the corresponding normal parameters\n",
    "Delta_std = (np.log(0.3**2+1))**0.5 # in numpy, it uses the corresponding normal parameters\n",
    "\n",
    "# random variables\n",
    "loga = ### YOUR CODE HERE ###\n",
    "Delta = ### YOUR CODE HERE ###\n",
    "q = ### YOUR CODE HERE ###"
   ]
  },
  {
   "cell_type": "code",
   "execution_count": null,
   "id": "a5ad8ce5",
   "metadata": {
    "ExecuteTime": {
     "end_time": "2022-06-22T07:50:49.032647Z",
     "start_time": "2022-06-22T07:50:48.622721Z"
    }
   },
   "outputs": [],
   "source": [
    "# for plotting purposes\n",
    "fig, axes = plt.subplots(ncols=3, figsize=(8,3))\n",
    "\n",
    "fig.suptitle(\"Fatigue damage computation random variables\")\n",
    "\n",
    "axes[0].hist(loga, bins=100, density=True)\n",
    "axes[0].set_xlabel(\"$log_{10}a$\")\n",
    "axes[0].set_ylabel(\"pmf\")\n",
    "\n",
    "axes[1].hist(Delta, bins=100, density=True)\n",
    "axes[1].set_xlabel(\"$\\Delta$\")\n",
    "axes[1].set_ylabel(\"pmf\")\n",
    "\n",
    "axes[2].hist(q, bins=100, density=True)\n",
    "axes[2].set_xlabel(\"$q$\")\n",
    "axes[2].set_ylabel(\"pmf\")\n",
    "\n",
    "plt.tight_layout()\n",
    "plt.show()"
   ]
  },
  {
   "cell_type": "code",
   "execution_count": null,
   "id": "d40694d8",
   "metadata": {
    "ExecuteTime": {
     "end_time": "2022-06-22T07:50:49.111247Z",
     "start_time": "2022-06-22T07:50:49.032647Z"
    }
   },
   "outputs": [],
   "source": [
    "# damage propagation after 20 years\n",
    "Td = 20\n",
    "\n",
    "# Deterioration equation\n",
    "### YOUR CODE HERE ### (if necessary)\n",
    "\n",
    "a = 10**loga\n",
    "g = ### YOUR CODE HERE ###\n",
    "pf = ### YOUR CODE HERE ###\n",
    "\n",
    "print(\"Probability of failure:\", pf)"
   ]
  },
  {
   "cell_type": "code",
   "execution_count": null,
   "id": "c73674ac",
   "metadata": {
    "ExecuteTime": {
     "end_time": "2022-06-22T07:50:49.223043Z",
     "start_time": "2022-06-22T07:50:49.112217Z"
    }
   },
   "outputs": [],
   "source": [
    "# for plotting purposes\n",
    "fig, ax = plt.subplots(figsize=(8,3))\n",
    "\n",
    "fig.suptitle(\"Deterioration after {} years\".format(Td))\n",
    "\n",
    "ax.hist(g, density=True, bins=100, range=(-0.5, 2.5))\n",
    "ax.set_xlabel(\"Damage limit state\")\n",
    "ax.set_ylabel(\"pmf\")\n",
    "ax.axvline(0, color='m', ls=\"--\")\n",
    "\n",
    "plt.tight_layout()\n",
    "plt.show()"
   ]
  },
  {
   "cell_type": "markdown",
   "id": "5a3ca62c",
   "metadata": {},
   "source": [
    "## Deterioration state evolution"
   ]
  },
  {
   "cell_type": "code",
   "execution_count": null,
   "id": "60f6688f",
   "metadata": {
    "ExecuteTime": {
     "end_time": "2022-06-22T07:50:49.334720Z",
     "start_time": "2022-06-22T07:50:49.224017Z"
    }
   },
   "outputs": [],
   "source": [
    "# Initial deterioration state\n",
    "g_0  = ### YOUR CODE HERE ###\n",
    "pf_0 = ### YOUR CODE HERE ###\n",
    "\n",
    "# Deterioration state after 10 years\n",
    "g_10 = ### YOUR CODE HERE ###\n",
    "pf_10 = ### YOUR CODE HERE ###\n",
    "\n",
    "# Deterioration state after 20 years\n",
    "g_20 = ### YOUR CODE HERE ###\n",
    "pf_20 = ### YOUR CODE HERE ###"
   ]
  },
  {
   "cell_type": "code",
   "execution_count": null,
   "id": "3da68d20",
   "metadata": {
    "ExecuteTime": {
     "end_time": "2022-06-22T07:50:49.395581Z",
     "start_time": "2022-06-22T07:50:49.335718Z"
    }
   },
   "outputs": [],
   "source": [
    "# for plotting purposes\n",
    "fig, ax = plt.subplots(figsize=(8,3))\n",
    "\n",
    "fig.suptitle(\"Deterioration evolution for {} year lifetime\".format(Td))\n",
    "\n",
    "ax.set_xlim((-0.2, 2.5))\n",
    "\n",
    "ax.hist(g_0, bins=100, density=True, histtype='step', color = '0.8', label=\"Year 0, Pf={:.4f}\".format(pf_0*100), lw=1.5, range=(-0.2, 2.5))\n",
    "ax.hist(g_10, bins=100, density=True, histtype='step', color = '0.5', label=\"Year 10, Pf={:.4f}\".format(pf_10*100), lw=1.5, range=(-0.2, 2.5))\n",
    "ax.hist(g_20, bins=100, density=True, histtype='step', color = 'k', label=\"Year 20, Pf={}\".format(pf_20*100), lw=1.5, range=(-0.2, 2.5))\n",
    "ax.axvline(0, color='m', ls=\"--\")\n",
    "\n",
    "ax.set_xlabel(\"\")\n",
    "ax.legend()\n",
    "\n",
    "plt.show()"
   ]
  },
  {
   "cell_type": "markdown",
   "id": "7fb8bdf7",
   "metadata": {},
   "source": [
    "## Sensitivity on the assigned uncertainties\n",
    "\n",
    "Try to change the random variables' uncertainties (represented, in this case, by the standard deviation). What is the influence of parameters uncertainties on the probability of failure ($p_f$)? By reducing the uncertainties, are we able to reduce the probability of failure? Is it always the case?"
   ]
  },
  {
   "cell_type": "code",
   "execution_count": null,
   "id": "e8d7f6ba",
   "metadata": {
    "ExecuteTime": {
     "end_time": "2022-06-22T07:53:32.383414Z",
     "start_time": "2022-06-22T07:53:32.209879Z"
    }
   },
   "outputs": [],
   "source": [
    "# parameters (random variables)\n",
    "loga_std = 0.2\n",
    "loga_mean = loga + 2*loga_std\n",
    "q_mean = 4.59\n",
    "q_std = 0.25*q_mean\n",
    "Delta_mean = 0 # in numpy, it use the corresponding normal parameters\n",
    "Delta_std = (np.log(0.3**2+1))**0.5 # in numpy, it uses the corresponding normal parameters\n",
    "\n",
    "# random variables\n",
    "loga = ### YOUR CODE HERE ###\n",
    "Delta = ### YOUR CODE HERE ###\n",
    "q = ### YOUR CODE HERE ###\n",
    "\n",
    "g_user = ### YOUR CODE HERE ###\n",
    "pf_user = ### YOUR CODE HERE ###\n",
    "\n",
    "# for plotting proposes\n",
    "fig, ax = plt.subplots(figsize=(8,3))\n",
    "ax.hist(g_20, bins=100, density=True, histtype='step', color = 'k', label=\"Original, pf={:.4f}%\".format(pf_20*100), ls=\"-\", lw=1.5, range=(-0.2, 2.5))\n",
    "ax.hist(g_user, bins=100, density=True, histtype='step', color = 'red', label=\"User change, pf={:.4f}%\".format(pf_user*100), ls=\"-\", lw=1.5, range=(-0.2, 2.5))\n",
    "ax.legend()\n",
    "ax.axvline(0, color='m', ls=\"--\")\n",
    "plt.show()"
   ]
  },
  {
   "cell_type": "markdown",
   "id": "c09a8b72",
   "metadata": {},
   "source": [
    "# Discussion\n",
    "- Why the values of $p_f$ are different?"
   ]
  },
  {
   "cell_type": "code",
   "execution_count": null,
   "id": "641856d3",
   "metadata": {},
   "outputs": [],
   "source": []
  }
 ],
 "metadata": {
  "kernelspec": {
   "display_name": "Python 3 (ipykernel)",
   "language": "python",
   "name": "python3"
  },
  "language_info": {
   "codemirror_mode": {
    "name": "ipython",
    "version": 3
   },
   "file_extension": ".py",
   "mimetype": "text/x-python",
   "name": "python",
   "nbconvert_exporter": "python",
   "pygments_lexer": "ipython3",
   "version": "3.8.12"
  }
 },
 "nbformat": 4,
 "nbformat_minor": 5
}
